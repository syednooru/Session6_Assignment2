{
 "cells": [
  {
   "cell_type": "code",
   "execution_count": 19,
   "metadata": {},
   "outputs": [],
   "source": [
    "import pandas as pd\n",
    "import numpy as np\n",
    "import matplotlib.pyplot as plt\n",
    "%matplotlib inline"
   ]
  },
  {
   "cell_type": "code",
   "execution_count": 30,
   "metadata": {},
   "outputs": [],
   "source": [
    "url='https://raw.githubusercontent.com/Geoyi/Cleaning-Titanic-Data/master/titanic_original.csv'\n",
    "titanic_df = pd.read_csv(url) #reading from URL\n"
   ]
  },
  {
   "cell_type": "code",
   "execution_count": 32,
   "metadata": {},
   "outputs": [
    {
     "data": {
      "text/plain": [
       "Index(['pclass', 'survived', 'name', 'sex', 'age', 'sibsp', 'parch', 'ticket',\n",
       "       'fare', 'cabin', 'embarked', 'boat', 'body', 'home.dest'],\n",
       "      dtype='object')"
      ]
     },
     "execution_count": 32,
     "metadata": {},
     "output_type": "execute_result"
    }
   ],
   "source": [
    "titanic_df.keys()     #column names"
   ]
  },
  {
   "cell_type": "code",
   "execution_count": 44,
   "metadata": {},
   "outputs": [
    {
     "name": "stdout",
     "output_type": "stream",
     "text": [
      "0       female\n",
      "1         male\n",
      "2       female\n",
      "3         male\n",
      "4       female\n",
      "5         male\n",
      "6       female\n",
      "7         male\n",
      "8       female\n",
      "9         male\n",
      "10        male\n",
      "11      female\n",
      "12      female\n",
      "13      female\n",
      "14        male\n",
      "15        male\n",
      "16        male\n",
      "17      female\n",
      "18      female\n",
      "19        male\n",
      "20        male\n",
      "21      female\n",
      "22        male\n",
      "23      female\n",
      "24      female\n",
      "25        male\n",
      "26        male\n",
      "27      female\n",
      "28      female\n",
      "29        male\n",
      "         ...  \n",
      "1280      male\n",
      "1281      male\n",
      "1282      male\n",
      "1283      male\n",
      "1284      male\n",
      "1285      male\n",
      "1286    female\n",
      "1287      male\n",
      "1288      male\n",
      "1289      male\n",
      "1290    female\n",
      "1291      male\n",
      "1292      male\n",
      "1293      male\n",
      "1294      male\n",
      "1295      male\n",
      "1296      male\n",
      "1297      male\n",
      "1298      male\n",
      "1299      male\n",
      "1300    female\n",
      "1301      male\n",
      "1302      male\n",
      "1303      male\n",
      "1304    female\n",
      "1305    female\n",
      "1306      male\n",
      "1307      male\n",
      "1308      male\n",
      "1309       NaN\n",
      "Name: sex, Length: 1310, dtype: object\n"
     ]
    }
   ],
   "source": [
    "print(titanic_df['sex']) #selecting the 'sex' column for reference and counting the Gender seperately"
   ]
  },
  {
   "cell_type": "code",
   "execution_count": 45,
   "metadata": {},
   "outputs": [
    {
     "data": {
      "text/plain": [
       "pclass       843\n",
       "survived     843\n",
       "name         843\n",
       "sex          843\n",
       "age          658\n",
       "sibsp        843\n",
       "parch        843\n",
       "ticket       843\n",
       "fare         842\n",
       "cabin        154\n",
       "embarked     843\n",
       "boat         167\n",
       "body         113\n",
       "home.dest    457\n",
       "dtype: int64"
      ]
     },
     "execution_count": 45,
     "metadata": {},
     "output_type": "execute_result"
    }
   ],
   "source": [
    "titanic_df[titanic_df['sex'] == 'male'].count()     #number of male's = 843"
   ]
  },
  {
   "cell_type": "code",
   "execution_count": 56,
   "metadata": {},
   "outputs": [
    {
     "data": {
      "text/plain": [
       "pclass       466\n",
       "survived     466\n",
       "name         466\n",
       "sex          466\n",
       "age          388\n",
       "sibsp        466\n",
       "parch        466\n",
       "ticket       466\n",
       "fare         466\n",
       "cabin        141\n",
       "embarked     464\n",
       "boat         319\n",
       "body           8\n",
       "home.dest    288\n",
       "dtype: int64"
      ]
     },
     "execution_count": 56,
     "metadata": {},
     "output_type": "execute_result"
    }
   ],
   "source": [
    "titanic_df[titanic_df['sex'] == 'female'].count()  #Number of female's = 466"
   ]
  },
  {
   "cell_type": "code",
   "execution_count": 49,
   "metadata": {},
   "outputs": [
    {
     "data": {
      "image/png": "[encoded data removed]",
      "text/plain": [
       "<Figure size 432x288 with 1 Axes>"
      ]
     },
     "metadata": {},
     "output_type": "display_data"
    }
   ],
   "source": [
    "#plotting the pie chart using matplotlib library\n",
    "\n",
    "labels = ['Male', 'Female']         \n",
    "sizes = [843,466]\n",
    "colors = ['yellowgreen', 'gold']\n",
    "patches, texts = plt.pie(sizes, colors=colors, shadow=True, startangle=90)\n",
    "plt.legend(patches, labels, loc=\"best\")\n",
    "plt.axis('equal')\n",
    "plt.tight_layout()\n",
    "plt.show()"
   ]
  },
  {
   "cell_type": "markdown",
   "metadata": {},
   "source": [
    "## Create a scatterplot with the Fare paid and the Age, differ the plot color by gender"
   ]
  },
  {
   "cell_type": "code",
   "execution_count": 58,
   "metadata": {},
   "outputs": [
    {
     "data": {
      "text/plain": [
       "0       211.3375\n",
       "1       151.5500\n",
       "2       151.5500\n",
       "3       151.5500\n",
       "4       151.5500\n",
       "5        26.5500\n",
       "6        77.9583\n",
       "7         0.0000\n",
       "8        51.4792\n",
       "9        49.5042\n",
       "10      227.5250\n",
       "11      227.5250\n",
       "12       69.3000\n",
       "13       78.8500\n",
       "14       30.0000\n",
       "15       25.9250\n",
       "16      247.5208\n",
       "17      247.5208\n",
       "18       76.2917\n",
       "19       75.2417\n",
       "20       52.5542\n",
       "21       52.5542\n",
       "22       30.0000\n",
       "23      227.5250\n",
       "24      221.7792\n",
       "25       26.0000\n",
       "26       91.0792\n",
       "27       91.0792\n",
       "28      135.6333\n",
       "29       26.5500\n",
       "          ...   \n",
       "1280      7.8958\n",
       "1281      9.0000\n",
       "1282      8.0500\n",
       "1283      7.5500\n",
       "1284      8.0500\n",
       "1285      9.5000\n",
       "1286      7.2292\n",
       "1287      7.7500\n",
       "1288      6.4958\n",
       "1289      6.4958\n",
       "1290      7.0000\n",
       "1291      8.7125\n",
       "1292      7.5500\n",
       "1293      8.0500\n",
       "1294     16.1000\n",
       "1295      7.2500\n",
       "1296      8.6625\n",
       "1297      7.2500\n",
       "1298      9.5000\n",
       "1299     14.4542\n",
       "1300     14.4542\n",
       "1301      7.2250\n",
       "1302      7.2250\n",
       "1303     14.4583\n",
       "1304     14.4542\n",
       "1305     14.4542\n",
       "1306      7.2250\n",
       "1307      7.2250\n",
       "1308      7.8750\n",
       "1309         NaN\n",
       "Name: fare, Length: 1310, dtype: float64"
      ]
     },
     "execution_count": 58,
     "metadata": {},
     "output_type": "execute_result"
    }
   ],
   "source": [
    "titanic_df['fare']"
   ]
  },
  {
   "cell_type": "code",
   "execution_count": 57,
   "metadata": {},
   "outputs": [
    {
     "name": "stdout",
     "output_type": "stream",
     "text": [
      "0       29.0000\n",
      "1        0.9167\n",
      "2        2.0000\n",
      "3       30.0000\n",
      "4       25.0000\n",
      "5       48.0000\n",
      "6       63.0000\n",
      "7       39.0000\n",
      "8       53.0000\n",
      "9       71.0000\n",
      "10      47.0000\n",
      "11      18.0000\n",
      "12      24.0000\n",
      "13      26.0000\n",
      "14      80.0000\n",
      "15          NaN\n",
      "16      24.0000\n",
      "17      50.0000\n",
      "18      32.0000\n",
      "19      36.0000\n",
      "20      37.0000\n",
      "21      47.0000\n",
      "22      26.0000\n",
      "23      42.0000\n",
      "24      29.0000\n",
      "25      25.0000\n",
      "26      25.0000\n",
      "27      19.0000\n",
      "28      35.0000\n",
      "29      28.0000\n",
      "         ...   \n",
      "1280    22.0000\n",
      "1281    22.0000\n",
      "1282        NaN\n",
      "1283        NaN\n",
      "1284        NaN\n",
      "1285    32.5000\n",
      "1286    38.0000\n",
      "1287    51.0000\n",
      "1288    18.0000\n",
      "1289    21.0000\n",
      "1290    47.0000\n",
      "1291        NaN\n",
      "1292        NaN\n",
      "1293        NaN\n",
      "1294    28.5000\n",
      "1295    21.0000\n",
      "1296    27.0000\n",
      "1297        NaN\n",
      "1298    36.0000\n",
      "1299    27.0000\n",
      "1300    15.0000\n",
      "1301    45.5000\n",
      "1302        NaN\n",
      "1303        NaN\n",
      "1304    14.5000\n",
      "1305        NaN\n",
      "1306    26.5000\n",
      "1307    27.0000\n",
      "1308    29.0000\n",
      "1309        NaN\n",
      "Name: age, Length: 1310, dtype: float64\n"
     ]
    }
   ],
   "source": [
    "titanic_df['age']"
   ]
  },
  {
   "cell_type": "code",
   "execution_count": 85,
   "metadata": {},
   "outputs": [
    {
     "data": {
      "image/png": "[encoded data removed]",
      "text/plain": [
       "<Figure size 432x288 with 1 Axes>"
      ]
     },
     "metadata": {},
     "output_type": "display_data"
    }
   ],
   "source": [
    "#plotting the scatter plot\n",
    "\n",
    "scatter_plot = plt.scatter(titanic_df['age'], titanic_df['fare'], alpha=0.5,)\n",
    "plt.show()\n",
    "\n"
   ]
  },
  {
   "cell_type": "code",
   "execution_count": null,
   "metadata": {},
   "outputs": [],
   "source": []
  }
 ],
 "metadata": {
  "kernelspec": {
   "display_name": "Python 3",
   "language": "python",
   "name": "python3"
  },
  "language_info": {
   "codemirror_mode": {
    "name": "ipython",
    "version": 3
   },
   "file_extension": ".py",
   "mimetype": "text/x-python",
   "name": "python",
   "nbconvert_exporter": "python",
   "pygments_lexer": "ipython3",
   "version": "3.6.5"
  }
 },
 "nbformat": 4,
 "nbformat_minor": 2
}
